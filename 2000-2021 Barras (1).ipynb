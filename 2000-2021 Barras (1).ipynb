{
 "cells": [
  {
   "cell_type": "code",
   "execution_count": 3,
   "id": "3621bda2",
   "metadata": {},
   "outputs": [],
   "source": [
    "#Importando librerías\n",
    "import pandas as pd\n",
    "from matplotlib import pyplot as plt\n",
    "import numpy as np\n",
    "Pnormal = pd.read_csv(\"Proyecto-normal.csv\")"
   ]
  },
  {
   "cell_type": "code",
   "execution_count": 4,
   "id": "ea8ec4f1",
   "metadata": {},
   "outputs": [
    {
     "data": {
      "text/html": [
       "<div>\n",
       "<style scoped>\n",
       "    .dataframe tbody tr th:only-of-type {\n",
       "        vertical-align: middle;\n",
       "    }\n",
       "\n",
       "    .dataframe tbody tr th {\n",
       "        vertical-align: top;\n",
       "    }\n",
       "\n",
       "    .dataframe thead th {\n",
       "        text-align: right;\n",
       "    }\n",
       "</style>\n",
       "<table border=\"1\" class=\"dataframe\">\n",
       "  <thead>\n",
       "    <tr style=\"text-align: right;\">\n",
       "      <th></th>\n",
       "      <th>País</th>\n",
       "      <th>Año</th>\n",
       "      <th>per</th>\n",
       "    </tr>\n",
       "  </thead>\n",
       "  <tbody>\n",
       "    <tr>\n",
       "      <th>0</th>\n",
       "      <td>Honduras</td>\n",
       "      <td>2000-2002</td>\n",
       "      <td>21.9</td>\n",
       "    </tr>\n",
       "    <tr>\n",
       "      <th>1</th>\n",
       "      <td>Honduras</td>\n",
       "      <td>2001-2003</td>\n",
       "      <td>21.2</td>\n",
       "    </tr>\n",
       "    <tr>\n",
       "      <th>2</th>\n",
       "      <td>Honduras</td>\n",
       "      <td>2002-2004</td>\n",
       "      <td>21.7</td>\n",
       "    </tr>\n",
       "    <tr>\n",
       "      <th>3</th>\n",
       "      <td>Honduras</td>\n",
       "      <td>2003-2005</td>\n",
       "      <td>22.2</td>\n",
       "    </tr>\n",
       "    <tr>\n",
       "      <th>4</th>\n",
       "      <td>Honduras</td>\n",
       "      <td>2004-2006</td>\n",
       "      <td>22.3</td>\n",
       "    </tr>\n",
       "    <tr>\n",
       "      <th>...</th>\n",
       "      <td>...</td>\n",
       "      <td>...</td>\n",
       "      <td>...</td>\n",
       "    </tr>\n",
       "    <tr>\n",
       "      <th>95</th>\n",
       "      <td>Nicaragua</td>\n",
       "      <td>2015-2017</td>\n",
       "      <td>18.0</td>\n",
       "    </tr>\n",
       "    <tr>\n",
       "      <th>96</th>\n",
       "      <td>Nicaragua</td>\n",
       "      <td>2016-2018</td>\n",
       "      <td>17.2</td>\n",
       "    </tr>\n",
       "    <tr>\n",
       "      <th>97</th>\n",
       "      <td>Nicaragua</td>\n",
       "      <td>2017-2019</td>\n",
       "      <td>17.4</td>\n",
       "    </tr>\n",
       "    <tr>\n",
       "      <th>98</th>\n",
       "      <td>Nicaragua</td>\n",
       "      <td>2018-2020</td>\n",
       "      <td>17.5</td>\n",
       "    </tr>\n",
       "    <tr>\n",
       "      <th>99</th>\n",
       "      <td>Nicaragua</td>\n",
       "      <td>2019-2021</td>\n",
       "      <td>18.6</td>\n",
       "    </tr>\n",
       "  </tbody>\n",
       "</table>\n",
       "<p>100 rows × 3 columns</p>\n",
       "</div>"
      ],
      "text/plain": [
       "         País        Año   per\n",
       "0    Honduras  2000-2002  21.9\n",
       "1    Honduras  2001-2003  21.2\n",
       "2    Honduras  2002-2004  21.7\n",
       "3    Honduras  2003-2005  22.2\n",
       "4    Honduras  2004-2006  22.3\n",
       "..        ...        ...   ...\n",
       "95  Nicaragua  2015-2017  18.0\n",
       "96  Nicaragua  2016-2018  17.2\n",
       "97  Nicaragua  2017-2019  17.4\n",
       "98  Nicaragua  2018-2020  17.5\n",
       "99  Nicaragua  2019-2021  18.6\n",
       "\n",
       "[100 rows x 3 columns]"
      ]
     },
     "execution_count": 4,
     "metadata": {},
     "output_type": "execute_result"
    }
   ],
   "source": [
    "#Visualizar fuente de datos\n",
    "Pnormal"
   ]
  },
  {
   "cell_type": "code",
   "execution_count": 12,
   "id": "9ca659f4",
   "metadata": {},
   "outputs": [],
   "source": [
    "#Recuperación de los datos necesarios\n",
    "fyearh = Pnormal.per.iloc [0]\n",
    "fyearn = Pnormal.per.iloc [80]\n",
    "fyearp = Pnormal.per.iloc [60]\n",
    "fyearc = Pnormal.per.iloc [40]\n",
    "fyeare = Pnormal.per.iloc [20]\n",
    "lyearh = Pnormal.per.iloc [19]\n",
    "lyearn = Pnormal.per.iloc [99]\n",
    "lyearp = Pnormal.per.iloc [79]\n",
    "lyearc = Pnormal.per.iloc [59]\n",
    "lyeare = Pnormal.per.iloc [39]"
   ]
  },
  {
   "cell_type": "code",
   "execution_count": 20,
   "id": "3c04c889",
   "metadata": {},
   "outputs": [
    {
     "data": {
      "image/png": "[encoded data removed]",
      "text/plain": [
       "<Figure size 432x288 with 1 Axes>"
      ]
     },
     "metadata": {
      "needs_background": "light"
     },
     "output_type": "display_data"
    }
   ],
   "source": [
    "# Gráfica, selección de porcentajes de años 2000 y 2021\n",
    "labels = ['Honduras', 'Nicaragua', 'Panamá', 'Colombia', 'Ecuador']\n",
    "fyear = [fyearh, fyearn, fyearp, fyearc, fyeare]\n",
    "lyear = [lyearh, lyearn, lyearp, lyearc, lyeare]\n",
    "\n",
    "x = np.arange(len(labels))  # the label locations\n",
    "width = 0.35  # the width of the bars\n",
    "\n",
    "fig, ax = plt.subplots()\n",
    "rects1 = ax.bar(x - width/2, fyear, width, label='2000')\n",
    "rects2 = ax.bar(x + width/2, lyear, width, label='2021')\n",
    "\n",
    "# Add some text for labels, title and custom x-axis tick labels, etc.\n",
    "ax.set_ylabel('%')\n",
    "ax.set_title('Comparación de subalimentación años 2000 y 2021')\n",
    "ax.set_xticks(x, labels)\n",
    "ax.legend()\n",
    "\n",
    "ax.bar_label(rects1, padding=1)\n",
    "ax.bar_label(rects2, padding=1)\n",
    "\n",
    "fig.tight_layout()\n",
    "\n",
    "plt.show()"
   ]
  },
  {
   "cell_type": "code",
   "execution_count": null,
   "id": "dc834cb2",
   "metadata": {},
   "outputs": [],
   "source": []
  }
 ],
 "metadata": {
  "kernelspec": {
   "display_name": "Python 3 (ipykernel)",
   "language": "python",
   "name": "python3"
  },
  "language_info": {
   "codemirror_mode": {
    "name": "ipython",
    "version": 3
   },
   "file_extension": ".py",
   "mimetype": "text/x-python",
   "name": "python",
   "nbconvert_exporter": "python",
   "pygments_lexer": "ipython3",
   "version": "3.9.12"
  }
 },
 "nbformat": 4,
 "nbformat_minor": 5
}
