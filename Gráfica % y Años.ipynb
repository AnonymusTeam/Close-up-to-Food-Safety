{
 "cells": [
  {
   "cell_type": "code",
   "execution_count": 1,
   "id": "039c41d2",
   "metadata": {},
   "outputs": [],
   "source": [
    "import pandas as pd\n",
    "from matplotlib import pyplot as plt\n",
    "import numpy as np\n",
    "Pnormal = pd.read_csv(\"Proyecto-normal.csv\")"
   ]
  },
  {
   "cell_type": "code",
   "execution_count": 2,
   "id": "2f032d2c",
   "metadata": {},
   "outputs": [
    {
     "data": {
      "text/html": [
       "<div>\n",
       "<style scoped>\n",
       "    .dataframe tbody tr th:only-of-type {\n",
       "        vertical-align: middle;\n",
       "    }\n",
       "\n",
       "    .dataframe tbody tr th {\n",
       "        vertical-align: top;\n",
       "    }\n",
       "\n",
       "    .dataframe thead th {\n",
       "        text-align: right;\n",
       "    }\n",
       "</style>\n",
       "<table border=\"1\" class=\"dataframe\">\n",
       "  <thead>\n",
       "    <tr style=\"text-align: right;\">\n",
       "      <th></th>\n",
       "      <th>País</th>\n",
       "      <th>Año</th>\n",
       "      <th>per</th>\n",
       "    </tr>\n",
       "  </thead>\n",
       "  <tbody>\n",
       "    <tr>\n",
       "      <th>0</th>\n",
       "      <td>Honduras</td>\n",
       "      <td>2000-2002</td>\n",
       "      <td>21.9</td>\n",
       "    </tr>\n",
       "    <tr>\n",
       "      <th>1</th>\n",
       "      <td>Honduras</td>\n",
       "      <td>2001-2003</td>\n",
       "      <td>21.2</td>\n",
       "    </tr>\n",
       "    <tr>\n",
       "      <th>2</th>\n",
       "      <td>Honduras</td>\n",
       "      <td>2002-2004</td>\n",
       "      <td>21.7</td>\n",
       "    </tr>\n",
       "    <tr>\n",
       "      <th>3</th>\n",
       "      <td>Honduras</td>\n",
       "      <td>2003-2005</td>\n",
       "      <td>22.2</td>\n",
       "    </tr>\n",
       "    <tr>\n",
       "      <th>4</th>\n",
       "      <td>Honduras</td>\n",
       "      <td>2004-2006</td>\n",
       "      <td>22.3</td>\n",
       "    </tr>\n",
       "    <tr>\n",
       "      <th>...</th>\n",
       "      <td>...</td>\n",
       "      <td>...</td>\n",
       "      <td>...</td>\n",
       "    </tr>\n",
       "    <tr>\n",
       "      <th>95</th>\n",
       "      <td>Nicaragua</td>\n",
       "      <td>2015-2017</td>\n",
       "      <td>18.0</td>\n",
       "    </tr>\n",
       "    <tr>\n",
       "      <th>96</th>\n",
       "      <td>Nicaragua</td>\n",
       "      <td>2016-2018</td>\n",
       "      <td>17.2</td>\n",
       "    </tr>\n",
       "    <tr>\n",
       "      <th>97</th>\n",
       "      <td>Nicaragua</td>\n",
       "      <td>2017-2019</td>\n",
       "      <td>17.4</td>\n",
       "    </tr>\n",
       "    <tr>\n",
       "      <th>98</th>\n",
       "      <td>Nicaragua</td>\n",
       "      <td>2018-2020</td>\n",
       "      <td>17.5</td>\n",
       "    </tr>\n",
       "    <tr>\n",
       "      <th>99</th>\n",
       "      <td>Nicaragua</td>\n",
       "      <td>2019-2021</td>\n",
       "      <td>18.6</td>\n",
       "    </tr>\n",
       "  </tbody>\n",
       "</table>\n",
       "<p>100 rows × 3 columns</p>\n",
       "</div>"
      ],
      "text/plain": [
       "         País        Año   per\n",
       "0    Honduras  2000-2002  21.9\n",
       "1    Honduras  2001-2003  21.2\n",
       "2    Honduras  2002-2004  21.7\n",
       "3    Honduras  2003-2005  22.2\n",
       "4    Honduras  2004-2006  22.3\n",
       "..        ...        ...   ...\n",
       "95  Nicaragua  2015-2017  18.0\n",
       "96  Nicaragua  2016-2018  17.2\n",
       "97  Nicaragua  2017-2019  17.4\n",
       "98  Nicaragua  2018-2020  17.5\n",
       "99  Nicaragua  2019-2021  18.6\n",
       "\n",
       "[100 rows x 3 columns]"
      ]
     },
     "execution_count": 2,
     "metadata": {},
     "output_type": "execute_result"
    }
   ],
   "source": [
    "Pnormal"
   ]
  },
  {
   "cell_type": "code",
   "execution_count": 126,
   "id": "5822843f",
   "metadata": {},
   "outputs": [],
   "source": [
    "year = ['2000-2002',\n",
    " '2001-2003',\n",
    " '2002-2004',\n",
    " '2003-2005',\n",
    " '2004-2006',\n",
    " '2005-2007',\n",
    " '2006-2008',\n",
    " '2007-2009',\n",
    " '2008-2010',\n",
    " '2009-2011',\n",
    " '2010-1012',\n",
    " '2011-2013',\n",
    " '2012-2014',\n",
    " '2013-2015',\n",
    " '2014-2016',\n",
    " '2015-2017',\n",
    " '2016-2018',\n",
    " '2017-2019',\n",
    " '2018-2020',\n",
    " '2019-2021']"
   ]
  },
  {
   "cell_type": "code",
   "execution_count": 133,
   "id": "8d4477b6",
   "metadata": {},
   "outputs": [],
   "source": [
    "honduras = Pnormal[Pnormal.País == \"Honduras\"]\n",
    "nicaragua = Pnormal[Pnormal.País == \"Nicaragua\"]\n",
    "panama = Pnormal[Pnormal.País == \"Panamá\"]\n",
    "ecuador = Pnormal[Pnormal.País == \"Ecuador\"]\n",
    "colombia = Pnormal[Pnormal.País == \"Colombia\"]"
   ]
  },
  {
   "cell_type": "code",
   "execution_count": 134,
   "id": "a0a3f8f9",
   "metadata": {
    "scrolled": true
   },
   "outputs": [],
   "source": [
    "col = colombia.per.to_numpy().transpose().tolist()\n",
    "hn = honduras.per.to_numpy().transpose().tolist()\n",
    "nica = nicaragua.per.to_numpy().transpose().tolist()\n",
    "pan = panama.per.to_numpy().transpose().tolist()\n",
    "ecu = ecuador.per.to_numpy().transpose().tolist()"
   ]
  },
  {
   "cell_type": "code",
   "execution_count": 143,
   "id": "52e3014d",
   "metadata": {},
   "outputs": [
    {
     "data": {
      "image/png": "[encoded data removed]",
      "text/plain": [
       "<Figure size 432x288 with 1 Axes>"
      ]
     },
     "metadata": {
      "needs_background": "light"
     },
     "output_type": "display_data"
    }
   ],
   "source": [
    "population_by_continent = {\n",
    "    'Honduras': hn,\n",
    "    'Colombia': col,\n",
    "    'Nicaragua': nica,\n",
    "    'Ecuador': ecu,\n",
    "    'Panamá': pan,\n",
    "}\n",
    "\n",
    "fig, ax = plt.subplots()\n",
    "ax.stackplot(year, population_by_continent.values(),\n",
    "             labels=population_by_continent.keys(), alpha=0.8)\n",
    "ax.legend(loc='upper left')\n",
    "ax.set_title('Subalimentación en LATAM')\n",
    "ax.set_xlabel('Años')\n",
    "ax.set_ylabel('Porcentaje')\n",
    "\n",
    "plt.show()"
   ]
  },
  {
   "cell_type": "code",
   "execution_count": null,
   "id": "0d4d9458",
   "metadata": {},
   "outputs": [],
   "source": []
  },
  {
   "cell_type": "code",
   "execution_count": null,
   "id": "856395c1",
   "metadata": {},
   "outputs": [],
   "source": []
  }
 ],
 "metadata": {
  "kernelspec": {
   "display_name": "Python 3 (ipykernel)",
   "language": "python",
   "name": "python3"
  },
  "language_info": {
   "codemirror_mode": {
    "name": "ipython",
    "version": 3
   },
   "file_extension": ".py",
   "mimetype": "text/x-python",
   "name": "python",
   "nbconvert_exporter": "python",
   "pygments_lexer": "ipython3",
   "version": "3.9.12"
  }
 },
 "nbformat": 4,
 "nbformat_minor": 5
}
